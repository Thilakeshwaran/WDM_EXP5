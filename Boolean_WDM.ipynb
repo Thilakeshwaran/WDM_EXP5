{
  "nbformat": 4,
  "nbformat_minor": 0,
  "metadata": {
    "colab": {
      "provenance": []
    },
    "kernelspec": {
      "name": "python3",
      "display_name": "Python 3"
    },
    "language_info": {
      "name": "python"
    }
  },
  "cells": [
    {
      "cell_type": "code",
      "execution_count": 7,
      "metadata": {
        "id": "9SEl5HSQRcHw"
      },
      "outputs": [],
      "source": [
        "import numpy as np\n",
        "import pandas as pd\n",
        "\n",
        "class BooleanRetrieval:\n",
        "    def __init__(self):\n",
        "        self.index = {}\n",
        "        self.documents_matrix = None\n",
        "        self.doc_ids = []\n",
        "\n",
        "    def index_document(self, doc_id, text):\n",
        "        terms = text.lower().split()\n",
        "        print(\"Document -\", doc_id, terms)\n",
        "        for term in terms:\n",
        "            if term not in self.index:\n",
        "                self.index[term] = set()\n",
        "            self.index[term].add(doc_id)\n",
        "\n",
        "    def create_documents_matrix(self, documents):\n",
        "        self.doc_ids = list(documents.keys())\n",
        "        terms = list(self.index.keys())\n",
        "        num_docs = len(documents)\n",
        "        num_terms = len(terms)\n",
        "\n",
        "        self.documents_matrix = np.zeros((num_docs, num_terms), dtype=int)\n",
        "\n",
        "        for i, (doc_id, text) in enumerate(documents.items()):\n",
        "            doc_terms = text.lower().split()\n",
        "            for term in doc_terms:\n",
        "                if term in self.index:\n",
        "                    term_id = terms.index(term)\n",
        "                    self.documents_matrix[i, term_id] = 1\n",
        "\n",
        "    def print_documents_matrix_table(self):\n",
        "        df = pd.DataFrame(self.documents_matrix, columns=self.index.keys(), index=self.doc_ids)\n",
        "        print(df)\n",
        "\n",
        "    def print_all_terms(self):\n",
        "        print(\"All terms in the documents:\")\n",
        "        print(list(self.index.keys()))\n",
        "\n",
        "    def boolean_search(self, query):\n",
        "        query = query.lower().split()\n",
        "        result_set = set(self.doc_ids)  # Start with all documents\n",
        "        operator = None\n",
        "\n",
        "        for token in query:\n",
        "            if token in (\"and\", \"or\", \"not\"):\n",
        "                operator = token\n",
        "            else:\n",
        "                # Get documents containing the term\n",
        "                docs_with_term = self.index.get(token, set())\n",
        "                if operator is None or operator == \"and\":\n",
        "                    result_set = result_set & docs_with_term\n",
        "                elif operator == \"or\":\n",
        "                    result_set = result_set | docs_with_term\n",
        "                elif operator == \"not\":\n",
        "                    result_set = result_set - docs_with_term\n",
        "                operator = None  # Reset operator after use\n",
        "\n",
        "        return result_set"
      ]
    },
    {
      "cell_type": "code",
      "source": [
        "# Main program\n",
        "if __name__ == \"__main__\":\n",
        "    indexer = BooleanRetrieval()\n",
        "\n",
        "    documents = {\n",
        "        1: \"Python is a programming language\",\n",
        "        2: \"Information retrieval deals with finding information\",\n",
        "        3: \"Boolean models are used in information retrieval\"\n",
        "    }\n",
        "\n",
        "    for doc_id, text in documents.items():\n",
        "        indexer.index_document(doc_id, text)\n",
        "\n",
        "    indexer.create_documents_matrix(documents)\n",
        "    indexer.print_documents_matrix_table()\n",
        "    indexer.print_all_terms()\n",
        "\n",
        "    query = input(\"Enter your boolean query: \")\n",
        "    results = indexer.boolean_search(query)\n",
        "    if results:\n",
        "        print(f\"Results for '{query}': {results}\")\n",
        "    else:\n",
        "        print(\"No results found for the query.\")"
      ],
      "metadata": {
        "colab": {
          "base_uri": "https://localhost:8080/"
        },
        "id": "8S35tAq1SRnf",
        "outputId": "4331722a-8e7e-4f88-bd7e-010c6acfb849"
      },
      "execution_count": 16,
      "outputs": [
        {
          "output_type": "stream",
          "name": "stdout",
          "text": [
            "Document - 1 ['python', 'is', 'a', 'programming', 'language']\n",
            "Document - 2 ['information', 'retrieval', 'deals', 'with', 'finding', 'information']\n",
            "Document - 3 ['boolean', 'models', 'are', 'used', 'in', 'information', 'retrieval']\n",
            "   python  is  a  programming  language  information  retrieval  deals  with  \\\n",
            "1       1   1  1            1         1            0          0      0     0   \n",
            "2       0   0  0            0         0            1          1      1     1   \n",
            "3       0   0  0            0         0            1          1      0     0   \n",
            "\n",
            "   finding  boolean  models  are  used  in  \n",
            "1        0        0       0    0     0   0  \n",
            "2        1        0       0    0     0   0  \n",
            "3        0        1       1    1     1   1  \n",
            "All terms in the documents:\n",
            "['python', 'is', 'a', 'programming', 'language', 'information', 'retrieval', 'deals', 'with', 'finding', 'boolean', 'models', 'are', 'used', 'in']\n",
            "Enter your boolean query: not deals\n",
            "Results for 'not deals': {1, 3}\n"
          ]
        }
      ]
    }
  ]
}